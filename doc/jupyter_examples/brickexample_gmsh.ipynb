{
 "cells": [
  {
   "cell_type": "markdown",
   "metadata": {},
   "source": [
    "# Example of a 3D cantilever beam modelled with brick elements\n",
    "First, the necessary modules need to be imported"
   ]
  },
  {
   "cell_type": "code",
   "execution_count": 91,
   "metadata": {},
   "outputs": [],
   "source": [
    "import HierAMuS\n",
    "import gmsh"
   ]
  },
  {
   "cell_type": "markdown",
   "metadata": {},
   "source": [
    "In a next step, gmsh needs to be initialized."
   ]
  },
  {
   "cell_type": "code",
   "execution_count": 92,
   "metadata": {},
   "outputs": [],
   "source": [
    "gmsh.initialize()\n",
    "gmsh.model.add(\"test\")"
   ]
  },
  {
   "cell_type": "markdown",
   "metadata": {},
   "source": [
    "Parametrization of the geometry with\n",
    "- L: length of the beam, x-direction\n",
    "- h: height of the beam, z-direction\n",
    "- b: width of the beam, y-direction\n",
    "\n",
    "After the parameter definition, the 8 necessary points can be added."
   ]
  },
  {
   "cell_type": "code",
   "execution_count": 93,
   "metadata": {},
   "outputs": [
    {
     "data": {
      "text/plain": [
       "8"
      ]
     },
     "execution_count": 93,
     "metadata": {},
     "output_type": "execute_result"
    }
   ],
   "source": [
    "L=10\n",
    "h=1\n",
    "b=1\n",
    "\n",
    "gmsh.model.occ.addPoint(0,0,0)\n",
    "gmsh.model.occ.addPoint(L,0,0)\n",
    "gmsh.model.occ.addPoint(L,b,0)\n",
    "gmsh.model.occ.addPoint(0,b,0)\n",
    "gmsh.model.occ.addPoint(0,0,h)\n",
    "gmsh.model.occ.addPoint(L,0,h)\n",
    "gmsh.model.occ.addPoint(L,b,h)\n",
    "gmsh.model.occ.addPoint(0,b,h)\n",
    "\n"
   ]
  },
  {
   "cell_type": "markdown",
   "metadata": {},
   "source": [
    "After the points are defined, the 12 lines can be defined to model the 6 surfaces."
   ]
  },
  {
   "cell_type": "code",
   "execution_count": 94,
   "metadata": {},
   "outputs": [],
   "source": [
    "# Lines of lower face 1\n",
    "gmsh.model.occ.addLine(1,2)\n",
    "gmsh.model.occ.addLine(2,3)\n",
    "gmsh.model.occ.addLine(3,4)\n",
    "gmsh.model.occ.addLine(4,1)\n",
    "\n",
    "lowerFaceLines = [1,4,3,2]\n",
    "\n",
    "# left face liness 2\n",
    "gmsh.model.occ.addLine(1,5)\n",
    "gmsh.model.occ.addLine(5,8)\n",
    "gmsh.model.occ.addLine(8,4)\n",
    "\n",
    "leftFaceLines = [5,6,7,4]\n",
    "\n",
    "# right face lines 3\n",
    "gmsh.model.occ.addLine(2,6)\n",
    "gmsh.model.occ.addLine(6,7)\n",
    "gmsh.model.occ.addLine(7,3)\n",
    "\n",
    "rightFaceLines = [2,10,9,8]\n",
    "\n",
    "# top face lines 4\n",
    "gmsh.model.occ.addLine(5,6)\n",
    "gmsh.model.occ.addLine(7,8)\n",
    "\n",
    "topFaceLines = [12,6,11,9]\n",
    "\n",
    "# front face lines 5\n",
    "frontFaceLines = [1,8,11,5]\n",
    "\n",
    "# back face lines 6\n",
    "backFaceLines = [3,10,12,7]\n",
    "\n",
    "xlines = [1,3,11,12]\n",
    "ylines = [2,9,4,6]\n",
    "zlines = [5,7,8,10]\n"
   ]
  },
  {
   "cell_type": "markdown",
   "metadata": {},
   "source": [
    "With the lines added, and collected counter-clockwise in the face lists, the curve loops and finally the face of the volume can be created.\n",
    "\n",
    "When adding curveLoops, the numbering does not seem to be ordered. Therefore, the temporary variable cl is used."
   ]
  },
  {
   "cell_type": "code",
   "execution_count": 95,
   "metadata": {},
   "outputs": [
    {
     "data": {
      "text/plain": [
       "6"
      ]
     },
     "execution_count": 95,
     "metadata": {},
     "output_type": "execute_result"
    }
   ],
   "source": [
    "# lower face 1\n",
    "cl=gmsh.model.occ.addCurveLoop(lowerFaceLines)\n",
    "f1=gmsh.model.occ.addPlaneSurface([cl])\n",
    "\n",
    "# left face 2\n",
    "cl=gmsh.model.occ.addCurveLoop(leftFaceLines)\n",
    "bounFace=gmsh.model.occ.addPlaneSurface([cl])\n",
    "\n",
    "\n",
    "# right face 3\n",
    "cl=gmsh.model.occ.addCurveLoop(rightFaceLines)\n",
    "loadFace=gmsh.model.occ.addPlaneSurface([cl])\n",
    "# top face 4\n",
    "cl=gmsh.model.occ.addCurveLoop(topFaceLines)\n",
    "gmsh.model.occ.addPlaneSurface([cl])\n",
    "# front face 5\n",
    "cl=gmsh.model.occ.addCurveLoop(frontFaceLines)\n",
    "gmsh.model.occ.addPlaneSurface([cl])\n",
    "# top face 6\n",
    "cl=gmsh.model.occ.addCurveLoop(backFaceLines)\n",
    "gmsh.model.occ.addPlaneSurface([cl])\n",
    "\n"
   ]
  },
  {
   "cell_type": "markdown",
   "metadata": {},
   "source": [
    "With the definition of the face, the definition of the volume can be added. Then the geometry is completed and must be synchronized in gmsh."
   ]
  },
  {
   "cell_type": "code",
   "execution_count": 96,
   "metadata": {},
   "outputs": [],
   "source": [
    "gmsh.model.occ.addSurfaceLoop([1,2,3,4,5,6])\n",
    "gmsh.model.occ.addVolume([1])\n",
    "\n",
    "\n",
    "gmsh.model.occ.synchronize()\n",
    "\n"
   ]
  },
  {
   "cell_type": "markdown",
   "metadata": {},
   "source": [
    "Now, the mesh can be prepared for meshing, by setting transfinite lines, face and volumes. Furthermore, the parameters for number of nodes per direction are introduces as:\n",
    "- nx: number of nodes in x-direction\n",
    "- ny: number of nodes in y-direction\n",
    "- nz: number of nodes in z-direction"
   ]
  },
  {
   "cell_type": "code",
   "execution_count": 97,
   "metadata": {},
   "outputs": [],
   "source": [
    "nx=30\n",
    "ny=7\n",
    "nz=7\n",
    "\n",
    "# settings the lines to be transfinite\n",
    "for i in xlines:\n",
    "    gmsh.model.mesh.setTransfiniteCurve(i,nx)\n",
    "for i in ylines:\n",
    "    gmsh.model.mesh.setTransfiniteCurve(i,ny)\n",
    "for i in zlines:\n",
    "    gmsh.model.mesh.setTransfiniteCurve(i,nz)\n",
    "    \n",
    "# setting the faces to be transfinite\n",
    "for i in [1,2,3,4,5,6]:\n",
    "    gmsh.model.mesh.setTransfiniteSurface(i)\n",
    "    \n",
    "# setting the volume to be transfinite\n",
    "gmsh.model.mesh.setTransfiniteVolume(1)\n",
    "\n",
    "\n",
    "gmsh.option.setNumber(\"Mesh.RecombineAll\", 1) # This option sets gmsh to recombine tetra to bricks\n",
    "\n",
    "#gmsh.fltk.run()\n",
    "gmsh.model.mesh.generate(3)\n",
    "\n"
   ]
  },
  {
   "cell_type": "markdown",
   "metadata": {},
   "source": [
    "After the mesh is generated, the finite element code can be initialized. And the commands can be requested from the FE-system."
   ]
  },
  {
   "cell_type": "code",
   "execution_count": 98,
   "metadata": {},
   "outputs": [],
   "source": [
    "fesys = HierAMuS.FEMPy(\"./\",\"BrickCantilever\")\n",
    "fesys.setStaticSolutionState()\n",
    "fesys.setSolver(2)\n",
    "\n",
    "mesh = fesys.getMeshCommands()\n",
    "macro = fesys.getMacroCommands()\n",
    "gm = mesh.getFromGMESH()\n",
    "geo = mesh.getGeometryCommands()\n",
    "\n",
    "macro.setLogLevel(fesys.FullLog(),fesys.FullLog())"
   ]
  },
  {
   "cell_type": "markdown",
   "metadata": {},
   "source": [
    "With the commands, the mesh can be transfered to the finite element code as geometry objects. And the remaining necessary information can be generated using the geometry command checkGeometry."
   ]
  },
  {
   "cell_type": "code",
   "execution_count": 99,
   "metadata": {},
   "outputs": [
    {
     "name": "stdout",
     "output_type": "stream",
     "text": [
      "Time to add geometry from Gmsh:  0.10903410000003078 s\n",
      "\n",
      "Geometry check and update took:  0.05886659999998756  s\n",
      "\n"
     ]
    }
   ],
   "source": [
    "gm.addGeomFromGmsh(gmsh)\n",
    "geo.checkGeometry()"
   ]
  },
  {
   "cell_type": "markdown",
   "metadata": {},
   "source": [
    "After the geometry is transfered, the finite elements must be created. This is done with the gmsh command addBrickVolumeFiniteElements from the gm object.\n",
    "\n",
    "The parameters are:\n",
    "- gmsh: the gmsh object itself\n",
    "- order: the order of the gmsh elements, currently only order 1 is supported\n",
    "- volumeTags: the volume tag of the gmsh geometry part (see gmsh.mmodel.occ.addVolume), we added only 1 volume, so it has number 1.\n",
    "- material: the material number which will be assigned to the finite elements"
   ]
  },
  {
   "cell_type": "code",
   "execution_count": 100,
   "metadata": {},
   "outputs": [],
   "source": [
    "gm.addBrickVolumeFiniteElements(gmsh=gmsh,order=1,volumeTags=1,material=1)"
   ]
  },
  {
   "cell_type": "markdown",
   "metadata": {},
   "source": [
    "After the finite elements are created, and a material number is assigned to them, the specific material must be created. A material is a set of a material formulation and an element formulation.\n",
    "\n",
    "The element formulation can be added using the object ElementFormulations, which can be acquired using the mesh commands object by mesh.getElementFormulations(). As bricks are used, we use a 3DSolid element with the command addEL300_3DSolid. Its parameters are:\n",
    "- num: number of the element formulation, later used to define the material set.\n",
    "- meshiddisp: the mesh id of the displacement field\n",
    "- disporder: the shape function order to approximate the displacements.\n",
    "- mode: the mode of the elementformulation: 1: geometrical linear, 2: geometrical nonlinear\n",
    "\n",
    "Like the element formulation a material formulation is required. Here, we use an isotropic linear elastic material. The material formulation can be added using the mesh.getMaterialFormulations() object. It will be added by the command addMA1_3D_LinearElastic_Isotrop, with the parameters:\n",
    "- number: number of the material formulation which will be used when adding the material set.\n",
    "- E: Young's modulus\n",
    "- nu: Poisson ratio\n",
    "\n",
    "Finally, the material set can be added using the mesh command addMaterial. It has the parameters:\n",
    "- matNum: the material set number, which is used in the addBrickVolumeFiniteElements command.\n",
    "- matFormNum: the number of the materialformulation which should be used, same number as used in addMA1_3D_LinearElastic_Isotrop\n",
    "- elemFormNum: the number of the elementformulation which should be used, same number as used in addEL300_3DSolid"
   ]
  },
  {
   "cell_type": "code",
   "execution_count": 101,
   "metadata": {},
   "outputs": [],
   "source": [
    "mesh.getElementFormulations().addEL300_3DSolid(num=1,meshiddisp=1,disporder=1,mode=1)\n",
    "mesh.getMaterialFormulations().addMA1_3D_LinearElastic_Isotrop(number=1,E=1,nu=0.3)\n",
    "mesh.addMaterial(matNum=1,matFormNum=1,elemFormNum=1)"
   ]
  },
  {
   "cell_type": "markdown",
   "metadata": {},
   "source": [
    "After adding all elements and the required material sets, the degrees of freedom can be set using the mesh command setDegreesOfFreedom"
   ]
  },
  {
   "cell_type": "code",
   "execution_count": 102,
   "metadata": {},
   "outputs": [],
   "source": [
    "mesh.setDegreesOfFreedom()"
   ]
  },
  {
   "cell_type": "markdown",
   "metadata": {},
   "source": [
    "After the degrees of freedom are distributed, the boundary conditions can be set. As we are dealing with a volume model, the boundary condition are set on a face. First, we acquire the face numbers from gmsh with the command gm.getFaceNumbers. The parameters for the command are:\n",
    "- gmsh: gmsh itself\n",
    "- tagin: the geometry tag from gmsh of the surface, see part where the faces are created\n",
    "- ftype: the type of the face; 3: 3 corner nodes; 4: 4 corner nodes. Here we used brick elements, therefore we have quadrilateral elements, thus the ftype must be 4\n",
    "- order: the order of the elements, here 1\n",
    "The command returns a list of all the faces.\n",
    "\n",
    "After retrieving the face numbers, the boundary conditions can be set with the command mesh.getBoundaryConditions().singleBC. The parameters are:\n",
    "- eltype: The geometric element type on which the boundary conditions are set; Here we set it on faces. The geometric type can be retrieved from the geo commands object.\n",
    "- number: The numbers of the faces on which the boundary conditions need to be set; retrieved from gmsh\n",
    "- meshId: The mesh id of the nodes which should be affected by the boundary conditions.\n",
    "- dofs: The dofs which should be affected; each node has exactly 3 degrees of freedom (u_x, u_y, u_z here). 1 means the degree of freedom is changed to fixed, 0: means the status of the degree of freedom is not affected if set=False, otherwise its status is set to free\n",
    "- shapeOrder: Shape function order for the field associated with the given mesh id\n",
    "- set: If True, the boundary conditions are set (free and fixed); if False then the boundary conditions are only added, meaning that the status of the degrees of freedom will not be set to free if it already was set to fixed.\n"
   ]
  },
  {
   "cell_type": "code",
   "execution_count": 103,
   "metadata": {},
   "outputs": [],
   "source": [
    "fnums = gm.getFaceNumbers(gmsh=gmsh,tagin=bounFace,ftype=4,order=1)\n",
    "mesh.getBoundaryConditions().singleBC(eltype=geo.faceType(),number=fnums,meshId=1,dofs=[1,1,1],shapeOrder=1,set=True)"
   ]
  },
  {
   "cell_type": "markdown",
   "metadata": {},
   "source": [
    "Like the supports, the load can be applied to a face as well with kind of an comparable approach. First, the face element numbers must be retrieved from gmsh.\n",
    "\n",
    "Loads are added using the mesh.getBoundaryConditions().singleLoad command. Parameters are the same as for singleBC, except:\n",
    "- load: The load in the 3 directions, here a face load in y-direction is applied.\n",
    "- propnum: associates the load with the proportional load function (here one), see definition of proportional load functions later on\n",
    "- shapeorder: should be the same as specified when adding the element formulation. It is required the integrate the load correctly over the face elements."
   ]
  },
  {
   "cell_type": "code",
   "execution_count": 104,
   "metadata": {},
   "outputs": [
    {
     "name": "stdout",
     "output_type": "stream",
     "text": [
      "3\n"
     ]
    }
   ],
   "source": [
    "fnums = gm.getFaceNumbers(gmsh=gmsh,tagin=loadFace,ftype=4,order=1)\n",
    "print(loadFace)\n",
    "mesh.getBoundaryConditions().singleLoad(eltype=geo.faceType(),number=fnums,meshId=1,load=[0,1,0],propnum=1,shapeorder=1)"
   ]
  },
  {
   "cell_type": "markdown",
   "metadata": {},
   "source": [
    "When all boundary conditions are set, the sparse matrix can be setup using the macro command sparseSetUp."
   ]
  },
  {
   "cell_type": "code",
   "execution_count": 105,
   "metadata": {},
   "outputs": [],
   "source": [
    "gmsh.finalize()\n",
    "macro.sparseSetUp()"
   ]
  },
  {
   "cell_type": "markdown",
   "metadata": {},
   "source": [
    "Before performing the calculation, the proportional load function needs to be added. This is done using the command macro.setPropFunction. The parameters are:\n",
    "- number: The number of the prop function, associated with propnum when adding loads\n",
    "- function: is a python function of a single variable computing the load factor in dependence of the time t. Here, the load function is t^2\n",
    "- tmin: the time value after which the function is valid\n",
    "- tmax: the time function until the function is valid\n",
    "\n",
    "Afterwards, we have to set delta t, the value to increase the time with when the timeincr command is used.\n",
    "Next, the time is incremented by the command macro.timeincr"
   ]
  },
  {
   "cell_type": "code",
   "execution_count": 106,
   "metadata": {},
   "outputs": [],
   "source": [
    "macro.setPropFunction(number=1,function=lambda t: t**2,tmin=0,tmax=1000)\n",
    "macro.setDt(dt=1)\n",
    "macro.timeincr()"
   ]
  },
  {
   "cell_type": "markdown",
   "metadata": {},
   "source": [
    "After the time is incremented, the system can be solved with an appropriate macro command. Either \n",
    "macro.newton() : which performs newton iterations to solve the system\n",
    "\n",
    "or\n",
    "\n",
    "macro.assembleSolve() : which assembles the system and solves it one time, which is sufficient in case of a linear calculation"
   ]
  },
  {
   "cell_type": "code",
   "execution_count": 107,
   "metadata": {},
   "outputs": [],
   "source": [
    "macro.assembleSolve()"
   ]
  },
  {
   "cell_type": "markdown",
   "metadata": {},
   "source": [
    "After the system is solved, the solution can be written to a paraview file with the plot command fesys.getPlotCommands().toFile() .\n",
    "This will create a folder parvout in the directory which was specified, when creating the finite element object with fesys = HierAMuS.FEMPy(\"./\",\"BrickCantilever\"). The first argument is the folder in which the parvout folder is created."
   ]
  },
  {
   "cell_type": "code",
   "execution_count": 108,
   "metadata": {},
   "outputs": [],
   "source": [
    "fesys.getPlotCommands().toFile()"
   ]
  }
 ],
 "metadata": {
  "kernelspec": {
   "display_name": "Python 3.9.15 ('CPPFEM')",
   "language": "python",
   "name": "python3"
  },
  "language_info": {
   "codemirror_mode": {
    "name": "ipython",
    "version": 3
   },
   "file_extension": ".py",
   "mimetype": "text/x-python",
   "name": "python",
   "nbconvert_exporter": "python",
   "pygments_lexer": "ipython3",
   "version": "3.9.15"
  },
  "orig_nbformat": 4,
  "vscode": {
   "interpreter": {
    "hash": "e43df51a7beb4a1e0f490f5725b7d86fa5c18081072a1f4d8bda16ce687fd685"
   }
  }
 },
 "nbformat": 4,
 "nbformat_minor": 2
}
