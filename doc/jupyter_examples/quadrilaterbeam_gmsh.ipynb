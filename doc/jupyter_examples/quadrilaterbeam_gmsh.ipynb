{
 "cells": [
  {
   "cell_type": "markdown",
   "metadata": {},
   "source": [
    "# Simple 2D cantilever beam example modelled with gmsh\n",
    "In a first step, we have to import the reuired python modules\n",
    "- HierAMuS: The finite element code\n",
    "- gmsh: The mesher"
   ]
  },
  {
   "cell_type": "code",
   "execution_count": null,
   "metadata": {},
   "outputs": [],
   "source": [
    "import HierAMuS\n",
    "import gmsh"
   ]
  },
  {
   "cell_type": "markdown",
   "metadata": {},
   "source": [
    "## Creating the model with gmsh\n",
    "First initialize gmsh, then add a model to gmsh"
   ]
  },
  {
   "cell_type": "code",
   "execution_count": null,
   "metadata": {},
   "outputs": [],
   "source": [
    "gmsh.initialize()\n",
    "\n",
    "gmsh.model.add('CantileverBeam')"
   ]
  },
  {
   "cell_type": "markdown",
   "metadata": {},
   "source": [
    "Next, define the geometry, which can be parametrized. This will be done by first adding points to gmsh. Here, the occ geometry kernel of gmsh will be used."
   ]
  },
  {
   "cell_type": "code",
   "execution_count": null,
   "metadata": {},
   "outputs": [],
   "source": [
    "L=10\n",
    "h=1\n",
    "gmsh.model.occ.addPoint(0,0,0)\n",
    "gmsh.model.occ.addPoint(L,0,0)\n",
    "gmsh.model.occ.addPoint(L,h,0)\n",
    "gmsh.model.occ.addPoint(0,h,0)"
   ]
  },
  {
   "cell_type": "markdown",
   "metadata": {},
   "source": [
    "The next step is to define the boundary lines with gmsh."
   ]
  },
  {
   "cell_type": "code",
   "execution_count": null,
   "metadata": {},
   "outputs": [],
   "source": [
    "gmsh.model.occ.addLine(1,2)\n",
    "gmsh.model.occ.addLine(2,3)\n",
    "gmsh.model.occ.addLine(3,4)\n",
    "gmsh.model.occ.addLine(4,1)\n"
   ]
  },
  {
   "cell_type": "markdown",
   "metadata": {},
   "source": [
    "The input can be graphically checked by first synchronizing the geometric model and the executing the graphical user interface of gmsh"
   ]
  },
  {
   "cell_type": "code",
   "execution_count": null,
   "metadata": {},
   "outputs": [],
   "source": [
    "gmsh.model.occ.synchronize()\n",
    "#gmsh.fltk.run()"
   ]
  },
  {
   "cell_type": "markdown",
   "metadata": {},
   "source": [
    "Next, the definition of the faces is required. This is done in gmsh by first define a curveloop and afterwards by adding the face"
   ]
  },
  {
   "cell_type": "code",
   "execution_count": null,
   "metadata": {},
   "outputs": [],
   "source": [
    "gmsh.model.occ.addCurveLoop([1,2,3,4])\n",
    "gmsh.model.occ.addPlaneSurface([1])"
   ]
  },
  {
   "cell_type": "markdown",
   "metadata": {},
   "source": [
    "Before creating the mesh, the geometry needs to be synchronized again"
   ]
  },
  {
   "cell_type": "code",
   "execution_count": null,
   "metadata": {},
   "outputs": [],
   "source": [
    "gmsh.model.occ.synchronize()\n",
    "#gmsh.fltk.run()"
   ]
  },
  {
   "cell_type": "markdown",
   "metadata": {},
   "source": [
    "Next, the settings for quadrilateral element meshing needs to be done. Here, we use a transfinite mesh, by settings the necessary property on the lines and the face"
   ]
  },
  {
   "cell_type": "code",
   "execution_count": null,
   "metadata": {},
   "outputs": [],
   "source": [
    "nx = 10 # number of nodes in x-direction\n",
    "ny = 4  # number of nodes in y-direction\n",
    "gmsh.model.mesh.setTransfiniteCurve(1,nx)\n",
    "gmsh.model.mesh.setTransfiniteCurve(3,nx)\n",
    "gmsh.model.mesh.setTransfiniteCurve(2,ny)\n",
    "gmsh.model.mesh.setTransfiniteCurve(4,ny)\n",
    "gmsh.model.mesh.setTransfiniteSurface(1)\n",
    "\n",
    "gmsh.option.setNumber(\"Mesh.RecombineAll\", 1) # This option sets gmsh to recombine triangles to quadrangles\n",
    "\n",
    "gmsh.model.mesh.generate(2)\n",
    "\n",
    "#gmsh.fltk.run() # check the mesh"
   ]
  },
  {
   "cell_type": "markdown",
   "metadata": {},
   "source": [
    "# Initialize the finite element program\n",
    "First create the finite element object, then set the solution type and afterwards the solver."
   ]
  },
  {
   "cell_type": "code",
   "execution_count": null,
   "metadata": {},
   "outputs": [],
   "source": [
    "fesys = HierAMuS.FEMPy(\"./\",\"test\")   # Create the FEMPy-object, including the specification of a folder and a filename to which data is written.\n",
    "fesys.setStaticSolutionState() # Sets the solution state to static solution\n",
    "fesys.setSolver(2) # Sets the solver to Eigen LDLT solver"
   ]
  },
  {
   "cell_type": "markdown",
   "metadata": {},
   "source": [
    "Next, we can extract the necessary commands from the finite element program"
   ]
  },
  {
   "cell_type": "code",
   "execution_count": null,
   "metadata": {},
   "outputs": [],
   "source": [
    "mesh = fesys.getMeshCommands()    # General mesh commands\n",
    "gm = mesh.getFromGMESH()          # Special gmsh commands\n",
    "geo = mesh.getGeometryCommands()  # The geometry commands\n",
    "macro = fesys.getMacroCommands()  # The macro commands"
   ]
  },
  {
   "cell_type": "markdown",
   "metadata": {},
   "source": [
    "With the gmsh-commands gm, the gmsh mesh can be transfered to the finite element program. Gmsh does not create all necessary data required for the finite element program. These additional data will be created by checkGeometry command from the geometry commands geo."
   ]
  },
  {
   "cell_type": "code",
   "execution_count": null,
   "metadata": {},
   "outputs": [],
   "source": [
    "gm.addGeomFromGmsh(gmsh)\n",
    "geo.checkGeometry()"
   ]
  },
  {
   "cell_type": "markdown",
   "metadata": {},
   "source": [
    "Add elements and assign material formulation"
   ]
  },
  {
   "cell_type": "code",
   "execution_count": null,
   "metadata": {},
   "outputs": [],
   "source": [
    "#gm.addFaceElements(gmsh,faceTags=1,material=1)\n",
    "gm.addQuadrilateralFiniteElements(gmsh,order=1,faceTags=1,material=1)\n",
    "#[et, enum, nt] = gmsh.model.mesh.getElements(2,1)\n"
   ]
  },
  {
   "cell_type": "markdown",
   "metadata": {},
   "source": [
    "Adding element and materialformualtion and group it in a material"
   ]
  },
  {
   "cell_type": "code",
   "execution_count": null,
   "metadata": {},
   "outputs": [],
   "source": [
    "mesh.getElementFormulations().addEL201_2DShell(num=1, meshiddisp=1, disporder=1, mode=1)\n",
    "mesh.getMaterialFormulations().addMA3_2D_LinearElastic_Isotrop(number=1, E=100, nu=0.3, thickness=1, plainstrain=1)\n",
    "mesh.addMaterial(1,1,1)"
   ]
  },
  {
   "cell_type": "markdown",
   "metadata": {},
   "source": [
    "After necessary data are created, the degrees of freedom can be distributed"
   ]
  },
  {
   "cell_type": "code",
   "execution_count": null,
   "metadata": {},
   "outputs": [],
   "source": [
    "mesh.setDegreesOfFreedom()"
   ]
  },
  {
   "cell_type": "markdown",
   "metadata": {},
   "source": [
    "After the degrees of freedom are distributed, boundary conditions can be set.\n",
    "Here, we clamp the left side of the beam, by\n",
    "- Getting the edges of that side\n",
    "- Settings the boundary conditions\n",
    "\n",
    "The parameters for singleBC are:\n",
    "- eltype: The geometric element type on which the boundary conditions should be set\n",
    "- number: The geometric object numbers to set the boundary conditions on\n",
    "- meshId: meshId of the degrees of freedom\n",
    "- dofs: a list with 3 entries. If 0: no boundary condition will be set, if 1 a boundary condition will be set\n",
    "- shapeOrder: Polynomial order of the shape functions approximating the solution field with the given meshId\n",
    "- shapeType: The shape function type on which the boundary conditions should be set\n",
    "- set: If True the boundary conditions will be overridden, otherwise only additional boundary condition will be considered"
   ]
  },
  {
   "cell_type": "code",
   "execution_count": null,
   "metadata": {},
   "outputs": [],
   "source": [
    "from HierAMuS.HierAMuSPyWrapper import HierAMuSPyFEM\n",
    "bounedges = gm.getEdgeNumbers(gmsh, 4)\n",
    "mesh.getBoundaryConditions().singleBC(eltype=geo.edgeType(), number=bounedges, meshId=1, dofs=[1,1,1], shapeOrder=1,shapeType=HierAMuSPyFEM.Geometry.ShapeFunctionTypes.H1,set=True)"
   ]
  },
  {
   "cell_type": "markdown",
   "metadata": {},
   "source": []
  },
  {
   "cell_type": "code",
   "execution_count": null,
   "metadata": {},
   "outputs": [],
   "source": [
    "loadedges = gm.getEdgeNumbers(gmsh, 2)\n",
    "mesh.getBoundaryConditions().singleLoad(eltype=geo.edgeType(), number=loadedges, meshId=1, load=[0,1,0], propnum=1,add=True, localLoad=False, shapeorder=1,shapeType=HierAMuSPyFEM.Geometry.ShapeFunctionTypes.H1)"
   ]
  },
  {
   "cell_type": "markdown",
   "metadata": {},
   "source": [
    "After the boundary conditions are set, the equation system and sparse matrix can be set up"
   ]
  },
  {
   "cell_type": "code",
   "execution_count": null,
   "metadata": {},
   "outputs": [],
   "source": [
    "macro.sparseSetUp()"
   ]
  },
  {
   "cell_type": "markdown",
   "metadata": {},
   "source": []
  },
  {
   "cell_type": "code",
   "execution_count": null,
   "metadata": {},
   "outputs": [],
   "source": [
    "macro.setPropFunction(1)\n",
    "macro.setDt(1)\n",
    "macro.timeincr()"
   ]
  },
  {
   "cell_type": "markdown",
   "metadata": {},
   "source": []
  },
  {
   "cell_type": "code",
   "execution_count": null,
   "metadata": {},
   "outputs": [],
   "source": [
    "macro.newton()"
   ]
  },
  {
   "cell_type": "markdown",
   "metadata": {},
   "source": []
  },
  {
   "cell_type": "code",
   "execution_count": null,
   "metadata": {},
   "outputs": [],
   "source": [
    "fesys.getPlotCommands().toFile()"
   ]
  }
 ],
 "metadata": {
  "kernelspec": {
   "display_name": "Python 3.9.15 ('testinstall')",
   "language": "python",
   "name": "python3"
  },
  "language_info": {
   "codemirror_mode": {
    "name": "ipython",
    "version": 3
   },
   "file_extension": ".py",
   "mimetype": "text/x-python",
   "name": "python",
   "nbconvert_exporter": "python",
   "pygments_lexer": "ipython3",
   "version": "3.9.15"
  },
  "orig_nbformat": 4,
  "vscode": {
   "interpreter": {
    "hash": "747b83f06b6d50ad0431f81a4e91e9ac55ac88f3ba78200d82681141ce07f6ee"
   }
  }
 },
 "nbformat": 4,
 "nbformat_minor": 2
}
